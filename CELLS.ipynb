{
  "nbformat": 4,
  "nbformat_minor": 0,
  "metadata": {
    "colab": {
      "name": "CELLS.ipynb",
      "provenance": []
    },
    "kernelspec": {
      "name": "python3",
      "display_name": "Python 3"
    },
    "language_info": {
      "name": "python"
    }
  },
  "cells": [
    {
      "cell_type": "code",
      "execution_count": 12,
      "metadata": {
        "id": "zz6VCAj1Kyie"
      },
      "outputs": [],
      "source": [
        "import zipfile\n",
        "from google.colab import drive\n",
        "import os"
      ]
    },
    {
      "cell_type": "code",
      "source": [
        "!gdown --id 1qRx1OEEQnfXUapd-55hveD46TEJu11Kx"
      ],
      "metadata": {
        "colab": {
          "base_uri": "https://localhost:8080/"
        },
        "id": "BwsAxtfD5n19",
        "outputId": "2c88439e-ae75-4ff7-f017-a6b94fb3d446"
      },
      "execution_count": 18,
      "outputs": [
        {
          "output_type": "stream",
          "name": "stdout",
          "text": [
            "/usr/local/lib/python3.7/dist-packages/gdown/cli.py:131: FutureWarning: Option `--id` was deprecated in version 4.3.1 and will be removed in 5.0. You don't need to pass it anymore to use a file ID.\n",
            "  category=FutureWarning,\n",
            "Downloading...\n",
            "From: https://drive.google.com/uc?id=1qRx1OEEQnfXUapd-55hveD46TEJu11Kx\n",
            "To: /content/cell_images.zip\n",
            "100% 354M/354M [00:02<00:00, 155MB/s]\n"
          ]
        }
      ]
    },
    {
      "cell_type": "code",
      "source": [
        "zip_ref = zipfile.ZipFile(\"/content/cell_images.zip\", 'r')\n",
        "zip_ref.extractall(\"/content/data\")\n",
        "zip_ref.close()"
      ],
      "metadata": {
        "id": "KcoHVYdY4yqO"
      },
      "execution_count": 19,
      "outputs": []
    },
    {
      "cell_type": "code",
      "source": [
        "import pandas as pd\n",
        "import numpy as np\n",
        "import seaborn as sns\n",
        "import matplotlib.pyplot as plt\n",
        "from matplotlib.image import imread"
      ],
      "metadata": {
        "id": "wuIvZoX06Ggk"
      },
      "execution_count": 8,
      "outputs": []
    },
    {
      "cell_type": "code",
      "source": [
        "data_dir = \"/content/data/cell_images/\""
      ],
      "metadata": {
        "id": "9688q4Uj6dCQ"
      },
      "execution_count": 23,
      "outputs": []
    },
    {
      "cell_type": "code",
      "source": [
        "test_path = data_dir + \"test/\"\n",
        "train_path = data_dir + \"train/\""
      ],
      "metadata": {
        "id": "S975RA0J6mVj"
      },
      "execution_count": 24,
      "outputs": []
    },
    {
      "cell_type": "code",
      "source": [
        "os.listdir(test_path)"
      ],
      "metadata": {
        "colab": {
          "base_uri": "https://localhost:8080/"
        },
        "id": "PSTrJbrg60se",
        "outputId": "dbbe8729-8466-490b-f14c-a072c06b64c2"
      },
      "execution_count": 25,
      "outputs": [
        {
          "output_type": "execute_result",
          "data": {
            "text/plain": [
              "['uninfected', 'parasitized']"
            ]
          },
          "metadata": {},
          "execution_count": 25
        }
      ]
    },
    {
      "cell_type": "code",
      "source": [
        "para_cell = train_path+\"parasitized\""
      ],
      "metadata": {
        "id": "OurVU_2w8cKO"
      },
      "execution_count": 26,
      "outputs": []
    },
    {
      "cell_type": "code",
      "source": [
        "dim1 = []\n",
        "dim2 = []\n",
        "\n",
        "for image_filename in os.listdir(test_path+\"uninfected\"):\n",
        "  img = imread(test_path+\"uninfected/\"+image_filename)\n",
        "  d1,d2, colors = img.shape\n",
        "  dim1.append(d1)\n",
        "  dim2.append(d2)"
      ],
      "metadata": {
        "id": "uCsL8Glk8nuh"
      },
      "execution_count": 29,
      "outputs": []
    },
    {
      "cell_type": "code",
      "source": [
        "np.mean(dim1) # get the mean dimensions to work with"
      ],
      "metadata": {
        "colab": {
          "base_uri": "https://localhost:8080/"
        },
        "id": "x7J2YGoP9fbT",
        "outputId": "bf104843-fec1-4ef4-923f-ae3fe8da0e52"
      },
      "execution_count": 33,
      "outputs": [
        {
          "output_type": "execute_result",
          "data": {
            "text/plain": [
              "130.92538461538462"
            ]
          },
          "metadata": {},
          "execution_count": 33
        }
      ]
    },
    {
      "cell_type": "code",
      "source": [
        "np.mean(dim2) # get the mean dimensions to work with"
      ],
      "metadata": {
        "colab": {
          "base_uri": "https://localhost:8080/"
        },
        "id": "lOqEIt3t-DJr",
        "outputId": "e0395bd8-e45a-485c-deae-c87113571b06"
      },
      "execution_count": 34,
      "outputs": [
        {
          "output_type": "execute_result",
          "data": {
            "text/plain": [
              "130.75"
            ]
          },
          "metadata": {},
          "execution_count": 34
        }
      ]
    },
    {
      "cell_type": "code",
      "source": [
        "image_shape= (130, 130, 3) # the new image_shape to apply to all images"
      ],
      "metadata": {
        "id": "OqPqGL4M-Ke_"
      },
      "execution_count": 36,
      "outputs": []
    },
    {
      "cell_type": "code",
      "source": [
        "from tensorflow.keras.preprocessing.image import ImageDataGenerator"
      ],
      "metadata": {
        "id": "rNAw0SMG-O20"
      },
      "execution_count": 37,
      "outputs": []
    },
    {
      "cell_type": "code",
      "source": [
        "#help(ImageDataGenerator)"
      ],
      "metadata": {
        "id": "ku-8E_W3-i3-"
      },
      "execution_count": 39,
      "outputs": []
    },
    {
      "cell_type": "code",
      "source": [
        "image_gen = ImageDataGenerator(rotation_range=20, \n",
        "                               width_shift_range=0.1,\n",
        "                               height_shift_range=0.1,\n",
        "                               shear_range=0.1,\n",
        "                               zoom_range=0.1,\n",
        "                               horizontal_flip=True,\n",
        "                               fill_mode=\"nearest\") # use this to create more images to the dataset by transforming the images"
      ],
      "metadata": {
        "id": "IObczir7-rrX"
      },
      "execution_count": 42,
      "outputs": []
    },
    {
      "cell_type": "code",
      "source": [
        "image_gen.flow_from_directory(train_path)"
      ],
      "metadata": {
        "colab": {
          "base_uri": "https://localhost:8080/"
        },
        "id": "RtX8Oz_m-l7F",
        "outputId": "7381e25a-8da0-4224-8f44-61c9c8932924"
      },
      "execution_count": 43,
      "outputs": [
        {
          "output_type": "stream",
          "name": "stdout",
          "text": [
            "Found 24958 images belonging to 2 classes.\n"
          ]
        },
        {
          "output_type": "execute_result",
          "data": {
            "text/plain": [
              "<keras.preprocessing.image.DirectoryIterator at 0x7f50f195ebd0>"
            ]
          },
          "metadata": {},
          "execution_count": 43
        }
      ]
    },
    {
      "cell_type": "code",
      "source": [
        "image_gen.flow_from_directory(test_path)"
      ],
      "metadata": {
        "colab": {
          "base_uri": "https://localhost:8080/"
        },
        "id": "9pnrUb6YAyIi",
        "outputId": "53e7fc63-d5f2-498a-c976-448a4bd62100"
      },
      "execution_count": 44,
      "outputs": [
        {
          "output_type": "stream",
          "name": "stdout",
          "text": [
            "Found 2600 images belonging to 2 classes.\n"
          ]
        },
        {
          "output_type": "execute_result",
          "data": {
            "text/plain": [
              "<keras.preprocessing.image.DirectoryIterator at 0x7f50d8f734d0>"
            ]
          },
          "metadata": {},
          "execution_count": 44
        }
      ]
    },
    {
      "cell_type": "code",
      "source": [
        "from tensorflow.keras.models import Sequential\n",
        "from tensorflow.keras.layers import Dense, Conv2D, MaxPool2D, Dropout, Flatten"
      ],
      "metadata": {
        "id": "72VZV1aKBVBk"
      },
      "execution_count": 51,
      "outputs": []
    },
    {
      "cell_type": "code",
      "source": [
        "model = Sequential()\n",
        "\n",
        "model.add(Conv2D(filters=32, \n",
        "                 kernel_size=(3,3), \n",
        "                 input_shape=image_shape,\n",
        "                 activation=\"relu\"))\n",
        "model.add(MaxPool2D(pool_size=(2,2)))\n",
        "\n",
        "model.add(Conv2D(filters=64, \n",
        "                 kernel_size=(3,3), \n",
        "                 input_shape=image_shape,\n",
        "                 activation=\"relu\"))\n",
        "model.add(MaxPool2D(pool_size=(2,2)))\n",
        "\n",
        "model.add(Conv2D(filters=64, \n",
        "                 kernel_size=(3,3), \n",
        "                 input_shape=image_shape,\n",
        "                 activation=\"relu\"))\n",
        "model.add(MaxPool2D(pool_size=(2,2)))\n",
        "\n",
        "model.add(Flatten())\n",
        "\n",
        "model.add(Dense(128, activation=\"relu\"))\n",
        "model.add(Dropout(0.5))\n",
        "\n",
        "model.add(Dense(1, activation=\"sigmoid\"))\n",
        "\n",
        "model.compile(loss=\"binary_crossentropy\", optimizer=\"adam\", metrics=[\"accuracy\"])\n"
      ],
      "metadata": {
        "id": "2quCZJ6FB1NZ"
      },
      "execution_count": 52,
      "outputs": []
    },
    {
      "cell_type": "code",
      "source": [
        "from tensorflow.keras.callbacks import EarlyStopping"
      ],
      "metadata": {
        "id": "1eyvCpBJDJDD"
      },
      "execution_count": 53,
      "outputs": []
    },
    {
      "cell_type": "code",
      "source": [
        "early_stop = EarlyStopping(monitor=\"val_loss\", patience=2)"
      ],
      "metadata": {
        "id": "XcK4Wl6WDMH4"
      },
      "execution_count": 54,
      "outputs": []
    },
    {
      "cell_type": "code",
      "source": [
        "batch_size = 16"
      ],
      "metadata": {
        "id": "v75DBlpnDPZs"
      },
      "execution_count": 55,
      "outputs": []
    },
    {
      "cell_type": "code",
      "source": [
        "train_image_gen = image_gen.flow_from_directory(train_path,\n",
        "                                                target_size=image_shape[:2],\n",
        "                                                color_mode=\"rgb\",\n",
        "                                                batch_size=batch_size,\n",
        "                                                class_mode=\"binary\")"
      ],
      "metadata": {
        "colab": {
          "base_uri": "https://localhost:8080/"
        },
        "id": "qyN0G0ItDTeZ",
        "outputId": "b0013759-0bbc-4fa1-e195-024e1bf264d3"
      },
      "execution_count": 57,
      "outputs": [
        {
          "output_type": "stream",
          "name": "stdout",
          "text": [
            "Found 24958 images belonging to 2 classes.\n"
          ]
        }
      ]
    },
    {
      "cell_type": "code",
      "source": [
        "test_image_gen = image_gen.flow_from_directory(test_path,\n",
        "                                                target_size=image_shape[:2],\n",
        "                                                color_mode=\"rgb\",\n",
        "                                                batch_size=batch_size,\n",
        "                                                class_mode=\"binary\",\n",
        "                                                shuffle=False)"
      ],
      "metadata": {
        "colab": {
          "base_uri": "https://localhost:8080/"
        },
        "id": "Nez5LHDnD2MD",
        "outputId": "95b7d1d6-6737-4bc4-ee20-c6638efd1f4c"
      },
      "execution_count": 59,
      "outputs": [
        {
          "output_type": "stream",
          "name": "stdout",
          "text": [
            "Found 2600 images belonging to 2 classes.\n"
          ]
        }
      ]
    },
    {
      "cell_type": "code",
      "source": [
        "train_image_gen.class_indices"
      ],
      "metadata": {
        "colab": {
          "base_uri": "https://localhost:8080/"
        },
        "id": "IVkXXwp2D9-a",
        "outputId": "577e5e46-d036-46c5-9fb1-2a56c30ab281"
      },
      "execution_count": 60,
      "outputs": [
        {
          "output_type": "execute_result",
          "data": {
            "text/plain": [
              "{'parasitized': 0, 'uninfected': 1}"
            ]
          },
          "metadata": {},
          "execution_count": 60
        }
      ]
    },
    {
      "cell_type": "code",
      "source": [
        "results = model.fit_generator(train_image_gen,\n",
        "                              epochs=20,\n",
        "                              validation_data=test_image_gen,\n",
        "                              callbacks=[early_stop])"
      ],
      "metadata": {
        "colab": {
          "base_uri": "https://localhost:8080/"
        },
        "id": "hn9j1zfQEI8r",
        "outputId": "b93b071e-3227-4700-be32-2dcb70556805"
      },
      "execution_count": 61,
      "outputs": [
        {
          "metadata": {
            "tags": null
          },
          "name": "stderr",
          "output_type": "stream",
          "text": [
            "/usr/local/lib/python3.7/dist-packages/ipykernel_launcher.py:4: UserWarning: `Model.fit_generator` is deprecated and will be removed in a future version. Please use `Model.fit`, which supports generators.\n",
            "  after removing the cwd from sys.path.\n"
          ]
        },
        {
          "output_type": "stream",
          "name": "stdout",
          "text": [
            "Epoch 1/20\n",
            "1560/1560 [==============================] - 780s 499ms/step - loss: 1.0522 - accuracy: 0.5461 - val_loss: 0.6811 - val_accuracy: 0.5742\n",
            "Epoch 2/20\n",
            "1560/1560 [==============================] - 777s 498ms/step - loss: 0.6782 - accuracy: 0.5788 - val_loss: 0.6745 - val_accuracy: 0.5869\n",
            "Epoch 3/20\n",
            "1560/1560 [==============================] - 765s 490ms/step - loss: 0.6739 - accuracy: 0.5913 - val_loss: 0.6677 - val_accuracy: 0.6046\n",
            "Epoch 4/20\n",
            "1560/1560 [==============================] - 764s 489ms/step - loss: 0.6726 - accuracy: 0.5912 - val_loss: 0.6793 - val_accuracy: 0.5769\n",
            "Epoch 5/20\n",
            "1560/1560 [==============================] - 756s 484ms/step - loss: 0.6631 - accuracy: 0.6088 - val_loss: 0.6606 - val_accuracy: 0.6150\n",
            "Epoch 6/20\n",
            "1560/1560 [==============================] - 760s 487ms/step - loss: 0.6591 - accuracy: 0.6172 - val_loss: 0.6538 - val_accuracy: 0.6262\n",
            "Epoch 7/20\n",
            "1560/1560 [==============================] - 762s 488ms/step - loss: 0.6642 - accuracy: 0.6156 - val_loss: 0.6534 - val_accuracy: 0.6165\n",
            "Epoch 8/20\n",
            "1560/1560 [==============================] - 758s 486ms/step - loss: 0.6418 - accuracy: 0.6412 - val_loss: 0.6352 - val_accuracy: 0.6077\n",
            "Epoch 9/20\n",
            "1560/1560 [==============================] - 759s 486ms/step - loss: 0.2828 - accuracy: 0.8986 - val_loss: 0.1970 - val_accuracy: 0.9296\n",
            "Epoch 10/20\n",
            "1560/1560 [==============================] - 762s 488ms/step - loss: 0.2039 - accuracy: 0.9366 - val_loss: 0.2057 - val_accuracy: 0.9238\n",
            "Epoch 11/20\n",
            "1560/1560 [==============================] - 757s 485ms/step - loss: 0.1991 - accuracy: 0.9382 - val_loss: 0.1754 - val_accuracy: 0.9431\n",
            "Epoch 12/20\n",
            "1560/1560 [==============================] - 778s 499ms/step - loss: 0.1824 - accuracy: 0.9440 - val_loss: 0.1886 - val_accuracy: 0.9392\n",
            "Epoch 13/20\n",
            "1560/1560 [==============================] - 770s 493ms/step - loss: 0.1747 - accuracy: 0.9467 - val_loss: 0.1737 - val_accuracy: 0.9423\n",
            "Epoch 14/20\n",
            "1560/1560 [==============================] - 761s 488ms/step - loss: 0.1738 - accuracy: 0.9465 - val_loss: 0.1561 - val_accuracy: 0.9469\n",
            "Epoch 15/20\n",
            "1560/1560 [==============================] - 764s 489ms/step - loss: 0.1723 - accuracy: 0.9470 - val_loss: 0.1628 - val_accuracy: 0.9435\n",
            "Epoch 16/20\n",
            "1560/1560 [==============================] - 764s 489ms/step - loss: 0.1649 - accuracy: 0.9485 - val_loss: 0.1743 - val_accuracy: 0.9427\n"
          ]
        }
      ]
    },
    {
      "cell_type": "code",
      "source": [
        "model.evaluate_generator(test_image_gen)"
      ],
      "metadata": {
        "colab": {
          "base_uri": "https://localhost:8080/"
        },
        "id": "a8JfqVS87Tki",
        "outputId": "325d3820-af49-4877-feaf-dbd05ca9651a"
      },
      "execution_count": 64,
      "outputs": [
        {
          "output_type": "stream",
          "name": "stderr",
          "text": [
            "/usr/local/lib/python3.7/dist-packages/ipykernel_launcher.py:1: UserWarning: `Model.evaluate_generator` is deprecated and will be removed in a future version. Please use `Model.evaluate`, which supports generators.\n",
            "  \"\"\"Entry point for launching an IPython kernel.\n"
          ]
        },
        {
          "output_type": "execute_result",
          "data": {
            "text/plain": [
              "[0.17829377949237823, 0.9411538243293762]"
            ]
          },
          "metadata": {},
          "execution_count": 64
        }
      ]
    },
    {
      "cell_type": "code",
      "source": [
        "pred = model.predict_generator(test_image_gen)"
      ],
      "metadata": {
        "colab": {
          "base_uri": "https://localhost:8080/"
        },
        "id": "LU7ozffk8E9B",
        "outputId": "96995145-62bc-42a6-c81f-635ff6dd085e"
      },
      "execution_count": 65,
      "outputs": [
        {
          "output_type": "stream",
          "name": "stderr",
          "text": [
            "/usr/local/lib/python3.7/dist-packages/ipykernel_launcher.py:1: UserWarning: `Model.predict_generator` is deprecated and will be removed in a future version. Please use `Model.predict`, which supports generators.\n",
            "  \"\"\"Entry point for launching an IPython kernel.\n"
          ]
        }
      ]
    },
    {
      "cell_type": "code",
      "source": [
        "pred = pred > 0.5\n",
        "pred"
      ],
      "metadata": {
        "colab": {
          "base_uri": "https://localhost:8080/"
        },
        "id": "RPXgr9t_8Qfs",
        "outputId": "348926ac-b97d-4823-f2e8-ea3ff9a6539b"
      },
      "execution_count": 66,
      "outputs": [
        {
          "output_type": "execute_result",
          "data": {
            "text/plain": [
              "array([[False],\n",
              "       [False],\n",
              "       [False],\n",
              "       ...,\n",
              "       [ True],\n",
              "       [ True],\n",
              "       [ True]])"
            ]
          },
          "metadata": {},
          "execution_count": 66
        }
      ]
    },
    {
      "cell_type": "code",
      "source": [
        "from sklearn.metrics import classification_report, confusion_matrix"
      ],
      "metadata": {
        "id": "cjlfHuM48fSx"
      },
      "execution_count": 67,
      "outputs": []
    },
    {
      "cell_type": "code",
      "source": [
        "print(classification_report(test_image_gen.classes, pred))"
      ],
      "metadata": {
        "colab": {
          "base_uri": "https://localhost:8080/"
        },
        "id": "L2OM5QiO8nLO",
        "outputId": "52deede8-8d07-4146-ac98-83c4811b8700"
      },
      "execution_count": 68,
      "outputs": [
        {
          "output_type": "stream",
          "name": "stdout",
          "text": [
            "              precision    recall  f1-score   support\n",
            "\n",
            "           0       0.98      0.91      0.94      1300\n",
            "           1       0.91      0.98      0.95      1300\n",
            "\n",
            "    accuracy                           0.94      2600\n",
            "   macro avg       0.95      0.94      0.94      2600\n",
            "weighted avg       0.95      0.94      0.94      2600\n",
            "\n"
          ]
        }
      ]
    },
    {
      "cell_type": "code",
      "source": [
        "sns.heatmap(confusion_matrix(test_image_gen.classes, pred), annot=True)"
      ],
      "metadata": {
        "colab": {
          "base_uri": "https://localhost:8080/",
          "height": 283
        },
        "id": "1XgLCWKp8vZ1",
        "outputId": "33b3cf24-06d5-4307-ffe6-6da2c420cbb7"
      },
      "execution_count": 70,
      "outputs": [
        {
          "output_type": "execute_result",
          "data": {
            "text/plain": [
              "<matplotlib.axes._subplots.AxesSubplot at 0x7f50cf365950>"
            ]
          },
          "metadata": {},
          "execution_count": 70
        },
        {
          "output_type": "display_data",
          "data": {
            "text/plain": [
              "<Figure size 432x288 with 2 Axes>"
            ],
            "image/png": "[encoded data removed]"
          },
          "metadata": {
            "needs_background": "light"
          }
        }
      ]
    },
    {
      "cell_type": "code",
      "source": [
        "from tensorflow.keras.preprocessing import image"
      ],
      "metadata": {
        "id": "LE5us2Fj9Brr"
      },
      "execution_count": 71,
      "outputs": []
    },
    {
      "cell_type": "code",
      "source": [
        "single_image = image.load_img(test_path+\"parasitized/C100P61ThinF_IMG_20150918_144348_cell_144.png\", target_size=image_shape)"
      ],
      "metadata": {
        "id": "Yf5QDtGB9Gi-"
      },
      "execution_count": 74,
      "outputs": []
    },
    {
      "cell_type": "code",
      "source": [
        "single_image"
      ],
      "metadata": {
        "colab": {
          "base_uri": "https://localhost:8080/",
          "height": 147
        },
        "id": "mqUx-lA-9ksf",
        "outputId": "13460646-88b9-4262-9aa7-d43c6e4574d5"
      },
      "execution_count": 75,
      "outputs": [
        {
          "output_type": "execute_result",
          "data": {
            "text/plain": [
              "<PIL.Image.Image image mode=RGB size=130x130 at 0x7F50D81CB510>"
            ],
            "image/png": "[encoded data removed]"
          },
          "metadata": {},
          "execution_count": 75
        }
      ]
    },
    {
      "cell_type": "code",
      "source": [
        "single_image_arr = image.img_to_array(single_image)"
      ],
      "metadata": {
        "id": "fYVBTmZh9mmR"
      },
      "execution_count": 82,
      "outputs": []
    },
    {
      "cell_type": "code",
      "source": [
        "single_image_arr = np.expand_dims(single_image_arr, axis=0) # the first dim to be (1, 130,130, 3)"
      ],
      "metadata": {
        "id": "Mtw7o2A99wZb"
      },
      "execution_count": 83,
      "outputs": []
    },
    {
      "cell_type": "code",
      "source": [
        "model.predict(single_image_arr) > 0.5"
      ],
      "metadata": {
        "colab": {
          "base_uri": "https://localhost:8080/"
        },
        "id": "G2wyu_3c96ar",
        "outputId": "048f4c55-77d1-4ae5-a412-cde4a5fb56f3"
      },
      "execution_count": 85,
      "outputs": [
        {
          "output_type": "execute_result",
          "data": {
            "text/plain": [
              "array([[False]])"
            ]
          },
          "metadata": {},
          "execution_count": 85
        }
      ]
    }
  ]
}